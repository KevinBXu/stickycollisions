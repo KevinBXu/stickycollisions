{
 "cells": [
  {
   "cell_type": "code",
   "execution_count": 47,
   "metadata": {},
   "outputs": [],
   "source": [
    "import numpy as np\n",
    "import math\n",
    "import matplotlib.pyplot as plt\n",
    "\n",
    "# parameters\n",
    "e_mass = 5.48579909-4     # electron mass in amu\n",
    "t0 = 315775               # a.u. to K\n",
    "tau0 = 2.418884326509e-17 # a.u. to sec\n",
    " \n",
    "#  universal truths, in SI units\n",
    "kB = 1.3806e-23\n",
    "hbar = 1.05457e-34\n",
    "AMU = 1.6605e-27\n",
    "Hartree = 4.359744e-18\n",
    "auLength = 5.29177e-11"
   ]
  },
  {
   "cell_type": "code",
   "execution_count": 21,
   "metadata": {},
   "outputs": [
    {
     "name": "stdout",
     "output_type": "stream",
     "text": [
      "beta (a0) 69.56041467855822\n",
      "E_beta (K) 1.563946230456178\n",
      "tau_beta (s) 3.068674998394627e-11\n"
     ]
    }
   ],
   "source": [
    "# define properties of molecules\n",
    "reduced_masses = {\"NaKNaK\" : 62 / 2, \"RbKRb\" : 87 * (87 + 40) / (87 + 87 + 40)}     # amu\n",
    "van_der_wall_coeffs = {\"NaKNaK\" : 561070, \"RbKRb\" : 8000}      # a.u.\n",
    "\n",
    "molecules = \"NaKNaK\"\n",
    "mu = reduced_masses[molecules] / e_mass      # now in a.u.\n",
    "c6 = van_der_wall_coeffs[molecules]          # a.u.\n",
    "\n",
    "# define natural units\n",
    "beta = (2 * mu * c6) ** (1/4)    # length \n",
    "E_beta = 1 / (2 * mu * beta ** 2)   # energy\n",
    "tau_beta = 2 * np.pi / E_beta    # time\n",
    "print(\"beta (a0)\", beta)\n",
    "print(\"E_beta (K)\", E_beta * t0)\n",
    "print(\"tau_beta (s)\", tau_beta * tau0)\n",
    "\n",
    "abar = (np.pi * 2 ** (-3/2) / math.gamma(5/4) / math.gamma(1.2)) ** 2"
   ]
  },
  {
   "cell_type": "code",
   "execution_count": 25,
   "metadata": {},
   "outputs": [],
   "source": [
    "# properties of resonant spectrum\n",
    "mean_spacing = 10.0\n",
    "mean_x = 0.1\n",
    "\n",
    "num_resonances = 401       # should be odd\n",
    "mean_coupling_strength = np.sqrt(mean_x * mean_spacing / np.pi ** 2)"
   ]
  },
  {
   "cell_type": "code",
   "execution_count": 48,
   "metadata": {},
   "outputs": [],
   "source": [
    "def generate_spectrum(num_resonances, mean_spacing, mean_coupling_strength, num_open_channels = 1):\n",
    "    # assert(num_resonances % 2 == 1)\n",
    "    # midpoint = num_resonances // 2\n",
    "    # energy_max = num_resonances / 2 * mean_spacing\n",
    "    # energy_min = -energy_max\n",
    "    \n",
    "    # rng\n",
    "    rng = np.random.default_rng()\n",
    "\n",
    "    uniform_dist = rng.uniform(0, 1, num_resonances - 1)\n",
    "    # transform uniform into a Wigner-Dyson distribution\n",
    "    nearest_neighbor = mean_spacing * np.sqrt(-4 / np.pi * np.log(1 - uniform_dist))\n",
    "\n",
    "    # generate energies\n",
    "    energy_GOE_mat = np.zeros((num_resonances, num_resonances))\n",
    "    energy_GOE_mat[0, 0] = -np.sum(nearest_neighbor) / 2\n",
    "    for i in range(num_resonances - 1):\n",
    "        energy_GOE_mat[i + 1, i + 1] = energy_GOE_mat[i, i] + nearest_neighbor[i]\n",
    "\n",
    "    # generate coupling matrix\n",
    "    W_mat = np.zeros((num_resonances, num_open_channels))\n",
    "    for mu in range(num_resonances):\n",
    "        for i in range(num_open_channels):\n",
    "            W_mat[mu, i] = rng.normal(0, mean_coupling_strength)\n",
    "\n",
    "    # find effective hamiltonian\n",
    "    Heff = energy_GOE_mat - 1j * np.pi * (W_mat @ W_mat.T) \n",
    "\n",
    "    # actual coupling constant\n",
    "    x_actual = np.pi ** 2 / mean_spacing * np.var(W_mat)\n",
    "\n",
    "    return energy_GOE_mat, W_mat, x_actual"
   ]
  },
  {
   "cell_type": "code",
   "execution_count": 53,
   "metadata": {},
   "outputs": [
    {
     "data": {
      "image/png": "[encoded data removed]",
      "text/plain": [
       "<Figure size 640x480 with 1 Axes>"
      ]
     },
     "metadata": {},
     "output_type": "display_data"
    },
    {
     "name": "stdout",
     "output_type": "stream",
     "text": [
      "0.1 0.10236001147537262\n"
     ]
    }
   ],
   "source": [
    "H_goe, W_mat, x_actual = generate_spectrum(num_resonances, mean_spacing, mean_coupling_strength)\n",
    "\n",
    "for i in range(num_resonances):\n",
    "    plt.plot([j for j in range(100)], [H_goe[i, i] for j in range(100)])\n",
    "# plt.ylim([-50, 50])\n",
    "plt.show()\n",
    "\n",
    "print(np.pi ** 2 / mean_spacing * mean_coupling_strength ** 2, x_actual)"
   ]
  },
  {
   "cell_type": "code",
   "execution_count": null,
   "metadata": {},
   "outputs": [],
   "source": [
    "def wigner_smith_matrix(collision_energy, H_goe, W_mat):\n",
    "    # values for calculation\n",
    "    k = np.sqrt(collision_energy)\n",
    "    A_mqdt = abar * k\n",
    "    A_prime = abar / 2 / k\n",
    "    G_mqdt = (1 / 3 - abar ** 2) * k ** 2\n",
    "    G_prime = (1/3 - abar ** 2)\n",
    "    eta_mqdt = -abar * k\n",
    "    eta_prime = -abar / 2 / k \n",
    "\n",
    "    Y_mat = 0\n",
    "    Y_prime = 0\n",
    "    for mu in range(num_resonances):\n",
    "        Y_mqdt += W_mat(mu) ** 2 / (collision_energy - H_goe[mu, mu])\n",
    "        \n"
   ]
  }
 ],
 "metadata": {
  "kernelspec": {
   "display_name": "Python 3",
   "language": "python",
   "name": "python3"
  },
  "language_info": {
   "codemirror_mode": {
    "name": "ipython",
    "version": 3
   },
   "file_extension": ".py",
   "mimetype": "text/x-python",
   "name": "python",
   "nbconvert_exporter": "python",
   "pygments_lexer": "ipython3",
   "version": "3.12.5"
  }
 },
 "nbformat": 4,
 "nbformat_minor": 2
}
