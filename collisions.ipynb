{
 "cells": [
  {
   "cell_type": "code",
   "execution_count": null,
   "metadata": {},
   "outputs": [],
   "source": [
    "e0 = 6.579683920711e6;     #  Ghz\n",
    "w0 = 2.194746313702e5;     #  cm-1\n",
    "t0 = 3.1577513e5;          #  Kelvin\n",
    "xk0 = 2.625499638e3;       # kJ/mol  (Wikipedia)\n",
    "l0 = 5.2917721067e-9;      #  cm\n",
    "tau0 = 2.418884326509e-17; #  sec\n",
    "xm0 = 5.48579909-4;        #  electron mass in amu\n",
    "f0 = 5.142206707e9;        #  V/cm\n",
    "d0 = 2.541746;             #  Debye (Wikipedia)\n",
    "b0 = 4.701035100e9;        # inverse Bohr magneton (gauss/au)\n",
    "g = 2.002319304361;        # electron g-factor\n",
    "alpha = 7.2973525664e-3;   #  fine structure const.\n",
    "\n",
    "#  universal truths, in SI units\n",
    "kB = 1.3806e-23\n",
    "hbar = 1.05457e-34\n",
    "AMU = 1.6605e-27\n",
    "Hartree = 4.359744e-18\n",
    "auLength = 5.29177e-11"
   ]
  }
 ],
 "metadata": {
  "kernelspec": {
   "display_name": "Python 3",
   "language": "python",
   "name": "python3"
  },
  "language_info": {
   "name": "python",
   "version": "3.12.5"
  }
 },
 "nbformat": 4,
 "nbformat_minor": 2
}
